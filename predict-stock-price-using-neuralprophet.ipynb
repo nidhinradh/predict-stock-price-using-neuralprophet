{
 "cells": [
  {
   "cell_type": "markdown",
   "metadata": {},
   "source": [
    "### Stock price prediction using NeuralProphet"
   ]
  },
  {
   "cell_type": "markdown",
   "metadata": {},
   "source": [
    "This is a Jupyter Notebook. When you execute code within the notebook, the results appear beneath the code. To execute a code chunk, place your cursor on the cell and press Shift+Enter.\n",
    "\n",
    "Predicting stock price is a difficult task. Many factors affect the stock price like company policies and government policies. These policy changes affect stock prices to rise or fall massively. But still, we can predict trends, seasonality and other parameters using historical data. \n",
    "We are going to do this using the NeuralProphet library."
   ]
  },
  {
   "cell_type": "markdown",
   "metadata": {},
   "source": [
    "### NeuralProphet"
   ]
  },
  {
   "cell_type": "markdown",
   "metadata": {},
   "source": [
    "[NeuralProphet](https://neuralprophet.com/) is a Neural Network based Time-Series model, inspired by Facebook Prophet and AR-Net, built on PyTorch. This framework addresses some key points like modularity and scalability.\n",
    "NeuralProphet can produce both single step and multi step-ahead forecasts. But at the moment, NeuralProphet builds models univariately. "
   ]
  },
  {
   "cell_type": "markdown",
   "metadata": {},
   "source": [
    "### Install NeuralProphet"
   ]
  },
  {
   "cell_type": "markdown",
   "metadata": {},
   "source": [
    "You can install NeuralProphet on your machine by running the following commands.\n",
    "\n",
    "git clone https://github.com/ourownstory/neural_prophet.git <br/>\n",
    "cd neural_prophet && pip install .[live]   "
   ]
  },
  {
   "cell_type": "markdown",
   "metadata": {},
   "source": [
    "### Install other libraries"
   ]
  },
  {
   "cell_type": "code",
   "execution_count": null,
   "metadata": {},
   "outputs": [],
   "source": [
    "!pip install pandas\n",
    "!pip install matplotlib\n",
    "!pip install seaborn"
   ]
  },
  {
   "cell_type": "markdown",
   "metadata": {},
   "source": [
    "### Import libraries"
   ]
  },
  {
   "cell_type": "code",
   "execution_count": null,
   "metadata": {},
   "outputs": [],
   "source": [
    "import pandas as pd\n",
    "import matplotlib.pyplot as plt\n",
    "%matplotlib inline\n",
    "import seaborn as sns\n",
    "from neuralprophet import NeuralProphet"
   ]
  },
  {
   "cell_type": "markdown",
   "metadata": {},
   "source": [
    "The variability of results comes from SGD finding different optima on different runs. The majority of the randomness comes from the random initialization of weights, different learning rates and different shuffling of the data loader. We can control the random number generator by setting its seed."
   ]
  },
  {
   "cell_type": "code",
   "execution_count": null,
   "metadata": {},
   "outputs": [],
   "source": [
    "from neuralprophet import set_random_seed \n",
    "set_random_seed(0)"
   ]
  },
  {
   "cell_type": "markdown",
   "metadata": {},
   "source": [
    "### Import Data"
   ]
  },
  {
   "cell_type": "markdown",
   "metadata": {},
   "source": [
    "For this tutorial, we will be using the stock data from [NIFTY-50 Stock Market Data (2000 - 2021) Kaggle Dataset](https://www.kaggle.com/rohanrao/nifty50-stock-market-data). We will try to predict Wipro's stock price for this demo."
   ]
  },
  {
   "cell_type": "code",
   "execution_count": null,
   "metadata": {},
   "outputs": [],
   "source": [
    "input_df = pd.read_csv(\"./data/stock/WIPRO.csv\", parse_dates=[\"Date\"])\n",
    "input_df.head()"
   ]
  },
  {
   "cell_type": "markdown",
   "metadata": {},
   "source": [
    "### Simple Model"
   ]
  },
  {
   "cell_type": "markdown",
   "metadata": {},
   "source": [
    "A simple model with neural_prophet for this dataset can be fitted by creating an object of the NeuralProphet class as follows and calling the fit function. This fits a model with the default settings in the model.\n",
    "In NeuralProphet only two columns are expected ‘ds’ which is the timestamp and ‘y’ the dependent variable( for stocks it is VWAP or Volume Weighted Average Price)."
   ]
  },
  {
   "cell_type": "code",
   "execution_count": null,
   "metadata": {},
   "outputs": [],
   "source": [
    "input_df = input_df[[\"Date\", \"VWAP\"]]\n",
    "input_df.rename(columns={\"Date\": \"ds\", \"VWAP\": \"y\"}, inplace=True)"
   ]
  },
  {
   "cell_type": "markdown",
   "metadata": {},
   "source": [
    "By default, the y values would be min-max normalized. If the user specifically, sets the normalize_y argument to true, the data is z-score normalized. For the time being, we will leave it with default values.\n",
    "We can perform validation per every epoch during model fitting. This is done by setting the validate_each_epoch and valid_p arguments in the fit function call. This lets us look at the validation metrics while model training."
   ]
  },
  {
   "cell_type": "code",
   "execution_count": null,
   "metadata": {},
   "outputs": [],
   "source": [
    "neural_prophet_model = NeuralProphet()\n",
    "neural_prophet_metrics = neural_prophet_model.fit(input_df, validate_each_epoch=True, valid_p=0.2, freq=\"D\")"
   ]
  },
  {
   "cell_type": "markdown",
   "metadata": {},
   "source": [
    "### Making future predictions from the model"
   ]
  },
  {
   "cell_type": "markdown",
   "metadata": {},
   "source": [
    "Now let's predict the trend for the next 365 days. "
   ]
  },
  {
   "cell_type": "code",
   "execution_count": null,
   "metadata": {},
   "outputs": [],
   "source": [
    "future_df = neural_prophet_model.make_future_dataframe(input_df, periods=365, n_historic_predictions=len(input_df))\n",
    "forecast_df = neural_prophet_model.predict(future_df)"
   ]
  },
  {
   "cell_type": "markdown",
   "metadata": {},
   "source": [
    "### Plotting prediction"
   ]
  },
  {
   "cell_type": "code",
   "execution_count": null,
   "metadata": {},
   "outputs": [],
   "source": [
    "fig, ax = plt.subplots(figsize=(8,8))\n",
    "neural_prophet_model.plot(forecast_df, xlabel=\"Date\", ylabel=\"VWAP\", ax=ax)\n",
    "\n",
    "ax.xaxis.label.set_size(24)\n",
    "ax.yaxis.label.set_size(24)\n",
    "ax.tick_params(axis='both', which='major', labelsize=18)\n",
    "ax.set_title(\"Wipro Stocks\", fontsize=24, fontweight=\"bold\")"
   ]
  },
  {
   "cell_type": "code",
   "execution_count": null,
   "metadata": {},
   "outputs": [],
   "source": [
    "fig_comp = neural_prophet_model.plot_components(forecast_df)"
   ]
  },
  {
   "cell_type": "markdown",
   "metadata": {},
   "source": [
    "### Plotting the parameters"
   ]
  },
  {
   "cell_type": "markdown",
   "metadata": {},
   "source": [
    "This will show the trend, trend rate, weekly seasonality and a yearly seasonality."
   ]
  },
  {
   "cell_type": "code",
   "execution_count": null,
   "metadata": {},
   "outputs": [],
   "source": [
    "fig_param = neural_prophet_model.plot_parameters()"
   ]
  },
  {
   "cell_type": "markdown",
   "metadata": {},
   "source": [
    "### Model Loss"
   ]
  },
  {
   "cell_type": "markdown",
   "metadata": {},
   "source": [
    "Loss is a number indicating how bad the model's prediction was on a single example. If the model's prediction is perfect, the loss is zero; otherwise, the loss is greater."
   ]
  },
  {
   "cell_type": "code",
   "execution_count": null,
   "metadata": {},
   "outputs": [],
   "source": [
    "fig, ax = plt.subplots(figsize=(14, 10))\n",
    "ax.plot(neural_prophet_metrics[\"MAE\"], '-b', linewidth=6, label=\"Training Loss\")  \n",
    "ax.plot(neural_prophet_metrics[\"MAE_val\"], '-r', linewidth=2, label=\"Validation Loss\")\n",
    "\n",
    "# You can use metrics[\"SmoothL1Loss\"] and metrics[\"SmoothL1Loss_val\"] too.\n",
    "\n",
    "ax.legend(loc='center right', fontsize=16)\n",
    "ax.tick_params(axis='both', which='major', labelsize=18)\n",
    "ax.set_xlabel(\"Epoch\", fontsize=24, fontweight=\"bold\")\n",
    "ax.set_ylabel(\"Loss\", fontsize=24, fontweight=\"bold\")\n",
    "\n",
    "ax.set_title(\"Model Loss (MAE)\", fontsize=28, fontweight=\"bold\")"
   ]
  },
  {
   "cell_type": "markdown",
   "metadata": {},
   "source": [
    "### Conclusion"
   ]
  },
  {
   "cell_type": "markdown",
   "metadata": {},
   "source": [
    "Hooray! Now we have predicted the stock trend of Wipro using the NeuralProphet library. As you can see, the loss is about 200. Which is not as accurate as we expect from a machine learning model. This model may be improved by optimizing hyperparameters or by enabling [AR-Net](https://ai.facebook.com/blog/ar-net-a-simple-autoregressive-neural-network-for-time-series/). Visit the [official documentation](http://neuralprophet.com/hyperparameter-selection) for a list of available hyperparameters."
   ]
  },
  {
   "cell_type": "code",
   "execution_count": null,
   "metadata": {},
   "outputs": [],
   "source": []
  }
 ],
 "metadata": {
  "kernelspec": {
   "display_name": "Python 3",
   "language": "python",
   "name": "python3"
  },
  "language_info": {
   "codemirror_mode": {
    "name": "ipython",
    "version": 3
   },
   "file_extension": ".py",
   "mimetype": "text/x-python",
   "name": "python",
   "nbconvert_exporter": "python",
   "pygments_lexer": "ipython3",
   "version": "3.6.7"
  }
 },
 "nbformat": 4,
 "nbformat_minor": 4
}
